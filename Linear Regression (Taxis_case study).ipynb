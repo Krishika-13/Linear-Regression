{
 "cells": [
  {
   "cell_type": "markdown",
   "id": "bdb1539e",
   "metadata": {},
   "source": [
    "# Case Study"
   ]
  },
  {
   "cell_type": "markdown",
   "id": "ae2a31ec",
   "metadata": {},
   "source": [
    "# Data Acquisition"
   ]
  },
  {
   "cell_type": "code",
   "execution_count": 1,
   "id": "445926fb",
   "metadata": {},
   "outputs": [],
   "source": [
    "# Import necessary libraries\n",
    "import numpy as np\n",
    "import pandas as pd\n",
    "import matplotlib.pyplot as plt\n",
    "import seaborn as sns\n",
    "\n",
    "from sklearn.model_selection import train_test_split\n",
    "from sklearn.linear_model import LinearRegression\n",
    "from sklearn.metrics import mean_squared_error\n",
    "\n",
    "import warnings  \n",
    "warnings.filterwarnings(\"ignore\")"
   ]
  },
  {
   "cell_type": "code",
   "execution_count": 2,
   "id": "01b0bf97",
   "metadata": {},
   "outputs": [],
   "source": [
    "# Load a dataset (using seaborn's built-in 'taxis' dataset as an example)\n",
    "# df=pd.read_csv('Store.csv')\n",
    "df = pd.read_csv('Store.csv')"
   ]
  },
  {
   "cell_type": "markdown",
   "id": "79f6c20e",
   "metadata": {},
   "source": [
    "# Data Preparation\n",
    "- Data Exploration\n",
    "- Data Cleaning\n",
    "- Missing value treatments\n",
    "- Outlier handling\n",
    "- Data encoding techniques\n",
    "- Feature engineering\n",
    "- Challenges of high dimensionality\n",
    "- Dimension reduction using principal component analysis"
   ]
  },
  {
   "cell_type": "markdown",
   "id": "e4c21890",
   "metadata": {},
   "source": [
    "# Explore the data"
   ]
  },
  {
   "cell_type": "code",
   "execution_count": 3,
   "id": "9289124a",
   "metadata": {},
   "outputs": [
    {
     "name": "stdout",
     "output_type": "stream",
     "text": [
      "(9994, 22) \n",
      "\n",
      "number of rows 9994\n",
      "number of columns 22 \n",
      "\n",
      "Index(['Unnamed: 0', 'Row ID', 'Order ID', 'Order Date', 'Ship Date',\n",
      "       'Ship Mode', 'Customer ID', 'Customer Name', 'Segment', 'Country',\n",
      "       'City', 'State', 'Postal Code', 'Region', 'Product ID', 'Category',\n",
      "       'Sub-Category', 'Product Name', 'Sales', 'Quantity', 'Discount',\n",
      "       'Profit'],\n",
      "      dtype='object') \n",
      "\n"
     ]
    }
   ],
   "source": [
    "# Display the shape of the DataFrame.\n",
    "print(df.shape,\"\\n\")\n",
    "\n",
    "print('number of rows', df.shape[0])\n",
    "print('number of columns',df.shape[1],\"\\n\")\n",
    "\n",
    "# Display the column labels\n",
    "print(df.columns,\"\\n\")"
   ]
  },
  {
   "cell_type": "code",
   "execution_count": 4,
   "id": "836faf88",
   "metadata": {},
   "outputs": [
    {
     "name": "stdout",
     "output_type": "stream",
     "text": [
      "   Unnamed: 0  Row ID        Order ID  Order Date   Ship Date     Ship Mode  \\\n",
      "0           0       1  CA-2013-152156  11-09-2013  11-12-2013  Second Class   \n",
      "1           1       2  CA-2013-152156  11-09-2013  11-12-2013  Second Class   \n",
      "2           2       3  CA-2013-138688   6/13/2013   6/17/2013  Second Class   \n",
      "\n",
      "  Customer ID    Customer Name    Segment        Country  ... Postal Code  \\\n",
      "0    CG-12520      Claire Gute   Consumer  United States  ...       42420   \n",
      "1    CG-12520      Claire Gute   Consumer  United States  ...       42420   \n",
      "2    DV-13045  Darrin Van Huff  Corporate  United States  ...       90036   \n",
      "\n",
      "  Region       Product ID         Category Sub-Category  \\\n",
      "0  South  FUR-BO-10001798        Furniture    Bookcases   \n",
      "1  South  FUR-CH-10000454        Furniture       Chairs   \n",
      "2   West  OFF-LA-10000240  Office Supplies       Labels   \n",
      "\n",
      "                                        Product Name   Sales Quantity  \\\n",
      "0                  Bush Somerset Collection Bookcase  261.96        2   \n",
      "1  Hon Deluxe Fabric Upholstered Stacking Chairs,...  731.94        3   \n",
      "2  Self-Adhesive Address Labels for Typewriters b...   14.62        2   \n",
      "\n",
      "   Discount    Profit  \n",
      "0       0.0   41.9136  \n",
      "1       0.0  219.5820  \n",
      "2       0.0    6.8714  \n",
      "\n",
      "[3 rows x 22 columns] \n",
      "\n",
      "      Unnamed: 0  Row ID        Order ID  Order Date   Ship Date  \\\n",
      "9991        9991    9992  CA-2014-121258   2/27/2014  03-04-2014   \n",
      "9992        9992    9993  CA-2014-121258   2/27/2014  03-04-2014   \n",
      "9993        9993    9994  CA-2014-119914  05-05-2014  05-10-2014   \n",
      "\n",
      "           Ship Mode Customer ID Customer Name   Segment        Country  ...  \\\n",
      "9991  Standard Class    DB-13060   Dave Brooks  Consumer  United States  ...   \n",
      "9992  Standard Class    DB-13060   Dave Brooks  Consumer  United States  ...   \n",
      "9993    Second Class    CC-12220  Chris Cortes  Consumer  United States  ...   \n",
      "\n",
      "     Postal Code Region       Product ID         Category Sub-Category  \\\n",
      "9991       92627   West  TEC-PH-10003645       Technology       Phones   \n",
      "9992       92627   West  OFF-PA-10004041  Office Supplies        Paper   \n",
      "9993       92683   West  OFF-AP-10002684  Office Supplies   Appliances   \n",
      "\n",
      "                                           Product Name    Sales Quantity  \\\n",
      "9991                              Aastra 57i VoIP phone  258.576        2   \n",
      "9992  It's Hot Message Books with Stickers, 2 3/4\" x 5\"   29.600        4   \n",
      "9993  Acco 7-Outlet Masterpiece Power Center, Wihtou...  243.160        2   \n",
      "\n",
      "      Discount   Profit  \n",
      "9991       0.2  19.3932  \n",
      "9992       0.0  13.3200  \n",
      "9993       0.0  72.9480  \n",
      "\n",
      "[3 rows x 22 columns] \n",
      "\n"
     ]
    }
   ],
   "source": [
    "# Display the first three  and last three rows\n",
    "print(df.head(3),\"\\n\")\n",
    "print(df.tail(3),\"\\n\")"
   ]
  },
  {
   "cell_type": "code",
   "execution_count": 5,
   "id": "c4a7cfb4",
   "metadata": {},
   "outputs": [
    {
     "name": "stdout",
     "output_type": "stream",
     "text": [
      "<class 'pandas.core.frame.DataFrame'>\n",
      "RangeIndex: 9994 entries, 0 to 9993\n",
      "Data columns (total 22 columns):\n",
      " #   Column         Non-Null Count  Dtype  \n",
      "---  ------         --------------  -----  \n",
      " 0   Unnamed: 0     9994 non-null   int64  \n",
      " 1   Row ID         9994 non-null   int64  \n",
      " 2   Order ID       9994 non-null   object \n",
      " 3   Order Date     9994 non-null   object \n",
      " 4   Ship Date      9994 non-null   object \n",
      " 5   Ship Mode      9994 non-null   object \n",
      " 6   Customer ID    9994 non-null   object \n",
      " 7   Customer Name  9994 non-null   object \n",
      " 8   Segment        9994 non-null   object \n",
      " 9   Country        9994 non-null   object \n",
      " 10  City           9994 non-null   object \n",
      " 11  State          9994 non-null   object \n",
      " 12  Postal Code    9994 non-null   int64  \n",
      " 13  Region         9994 non-null   object \n",
      " 14  Product ID     9994 non-null   object \n",
      " 15  Category       9994 non-null   object \n",
      " 16  Sub-Category   9994 non-null   object \n",
      " 17  Product Name   9994 non-null   object \n",
      " 18  Sales          9994 non-null   float64\n",
      " 19  Quantity       9994 non-null   int64  \n",
      " 20  Discount       9994 non-null   float64\n",
      " 21  Profit         9994 non-null   float64\n",
      "dtypes: float64(3), int64(4), object(15)\n",
      "memory usage: 1.7+ MB\n",
      "None \n",
      "\n"
     ]
    }
   ],
   "source": [
    "# Display the concise summary of a DataFrame.\n",
    "print(df.info(),\"\\n\")"
   ]
  },
  {
   "cell_type": "code",
   "execution_count": 6,
   "id": "f9f04418",
   "metadata": {},
   "outputs": [
    {
     "name": "stdout",
     "output_type": "stream",
     "text": [
      "Unnamed: 0         int64\n",
      "Row ID             int64\n",
      "Order ID          object\n",
      "Order Date        object\n",
      "Ship Date         object\n",
      "Ship Mode         object\n",
      "Customer ID       object\n",
      "Customer Name     object\n",
      "Segment           object\n",
      "Country           object\n",
      "City              object\n",
      "State             object\n",
      "Postal Code        int64\n",
      "Region            object\n",
      "Product ID        object\n",
      "Category          object\n",
      "Sub-Category      object\n",
      "Product Name      object\n",
      "Sales            float64\n",
      "Quantity           int64\n",
      "Discount         float64\n",
      "Profit           float64\n",
      "dtype: object \n",
      "\n"
     ]
    }
   ],
   "source": [
    "# Retrieve the data types of each column\n",
    "print(df.dtypes,\"\\n\")"
   ]
  },
  {
   "cell_type": "code",
   "execution_count": 7,
   "id": "f1cacf49",
   "metadata": {},
   "outputs": [
    {
     "name": "stdout",
     "output_type": "stream",
     "text": [
      "number of columns of integer type 4\n",
      "number of columns of object type 0\n",
      "number of columns of float type 3\n"
     ]
    }
   ],
   "source": [
    "# how many columns are of integer type\n",
    "print('number of columns of integer type', df.select_dtypes(include='int64').shape[1])\n",
    "# how many columns are of category type\n",
    "print('number of columns of object type', df.select_dtypes(include='category').shape[1])\n",
    "# how many columns are of float type\n",
    "print('number of columns of float type', df.select_dtypes(include='float64').shape[1])"
   ]
  },
  {
   "cell_type": "code",
   "execution_count": 8,
   "id": "f0cbadf7",
   "metadata": {},
   "outputs": [
    {
     "data": {
      "text/plain": [
       "array(['South', 'West', 'Central', 'East'], dtype=object)"
      ]
     },
     "execution_count": 8,
     "metadata": {},
     "output_type": "execute_result"
    }
   ],
   "source": [
    "# identify the unique values\n",
    "df['Region'].unique()"
   ]
  },
  {
   "cell_type": "code",
   "execution_count": 9,
   "id": "cbe6ba37",
   "metadata": {},
   "outputs": [
    {
     "data": {
      "text/html": [
       "<div>\n",
       "<style scoped>\n",
       "    .dataframe tbody tr th:only-of-type {\n",
       "        vertical-align: middle;\n",
       "    }\n",
       "\n",
       "    .dataframe tbody tr th {\n",
       "        vertical-align: top;\n",
       "    }\n",
       "\n",
       "    .dataframe thead th {\n",
       "        text-align: right;\n",
       "    }\n",
       "</style>\n",
       "<table border=\"1\" class=\"dataframe\">\n",
       "  <thead>\n",
       "    <tr style=\"text-align: right;\">\n",
       "      <th></th>\n",
       "      <th>Unnamed: 0</th>\n",
       "      <th>Row ID</th>\n",
       "      <th>Postal Code</th>\n",
       "      <th>Sales</th>\n",
       "      <th>Quantity</th>\n",
       "      <th>Discount</th>\n",
       "      <th>Profit</th>\n",
       "    </tr>\n",
       "  </thead>\n",
       "  <tbody>\n",
       "    <tr>\n",
       "      <th>count</th>\n",
       "      <td>9994.000000</td>\n",
       "      <td>9994.000000</td>\n",
       "      <td>9994.000000</td>\n",
       "      <td>9994.000000</td>\n",
       "      <td>9994.000000</td>\n",
       "      <td>9994.000000</td>\n",
       "      <td>9994.000000</td>\n",
       "    </tr>\n",
       "    <tr>\n",
       "      <th>mean</th>\n",
       "      <td>4996.500000</td>\n",
       "      <td>4997.500000</td>\n",
       "      <td>55190.379428</td>\n",
       "      <td>229.858001</td>\n",
       "      <td>3.789574</td>\n",
       "      <td>0.156203</td>\n",
       "      <td>28.656896</td>\n",
       "    </tr>\n",
       "    <tr>\n",
       "      <th>std</th>\n",
       "      <td>2885.163629</td>\n",
       "      <td>2885.163629</td>\n",
       "      <td>32063.693350</td>\n",
       "      <td>623.245101</td>\n",
       "      <td>2.225110</td>\n",
       "      <td>0.206452</td>\n",
       "      <td>234.260108</td>\n",
       "    </tr>\n",
       "    <tr>\n",
       "      <th>min</th>\n",
       "      <td>0.000000</td>\n",
       "      <td>1.000000</td>\n",
       "      <td>1040.000000</td>\n",
       "      <td>0.444000</td>\n",
       "      <td>1.000000</td>\n",
       "      <td>0.000000</td>\n",
       "      <td>-6599.978000</td>\n",
       "    </tr>\n",
       "    <tr>\n",
       "      <th>25%</th>\n",
       "      <td>2498.250000</td>\n",
       "      <td>2499.250000</td>\n",
       "      <td>23223.000000</td>\n",
       "      <td>17.280000</td>\n",
       "      <td>2.000000</td>\n",
       "      <td>0.000000</td>\n",
       "      <td>1.728750</td>\n",
       "    </tr>\n",
       "    <tr>\n",
       "      <th>50%</th>\n",
       "      <td>4996.500000</td>\n",
       "      <td>4997.500000</td>\n",
       "      <td>56430.500000</td>\n",
       "      <td>54.490000</td>\n",
       "      <td>3.000000</td>\n",
       "      <td>0.200000</td>\n",
       "      <td>8.666500</td>\n",
       "    </tr>\n",
       "    <tr>\n",
       "      <th>75%</th>\n",
       "      <td>7494.750000</td>\n",
       "      <td>7495.750000</td>\n",
       "      <td>90008.000000</td>\n",
       "      <td>209.940000</td>\n",
       "      <td>5.000000</td>\n",
       "      <td>0.200000</td>\n",
       "      <td>29.364000</td>\n",
       "    </tr>\n",
       "    <tr>\n",
       "      <th>max</th>\n",
       "      <td>9993.000000</td>\n",
       "      <td>9994.000000</td>\n",
       "      <td>99301.000000</td>\n",
       "      <td>22638.480000</td>\n",
       "      <td>14.000000</td>\n",
       "      <td>0.800000</td>\n",
       "      <td>8399.976000</td>\n",
       "    </tr>\n",
       "  </tbody>\n",
       "</table>\n",
       "</div>"
      ],
      "text/plain": [
       "        Unnamed: 0       Row ID   Postal Code         Sales     Quantity  \\\n",
       "count  9994.000000  9994.000000   9994.000000   9994.000000  9994.000000   \n",
       "mean   4996.500000  4997.500000  55190.379428    229.858001     3.789574   \n",
       "std    2885.163629  2885.163629  32063.693350    623.245101     2.225110   \n",
       "min       0.000000     1.000000   1040.000000      0.444000     1.000000   \n",
       "25%    2498.250000  2499.250000  23223.000000     17.280000     2.000000   \n",
       "50%    4996.500000  4997.500000  56430.500000     54.490000     3.000000   \n",
       "75%    7494.750000  7495.750000  90008.000000    209.940000     5.000000   \n",
       "max    9993.000000  9994.000000  99301.000000  22638.480000    14.000000   \n",
       "\n",
       "          Discount       Profit  \n",
       "count  9994.000000  9994.000000  \n",
       "mean      0.156203    28.656896  \n",
       "std       0.206452   234.260108  \n",
       "min       0.000000 -6599.978000  \n",
       "25%       0.000000     1.728750  \n",
       "50%       0.200000     8.666500  \n",
       "75%       0.200000    29.364000  \n",
       "max       0.800000  8399.976000  "
      ]
     },
     "execution_count": 9,
     "metadata": {},
     "output_type": "execute_result"
    }
   ],
   "source": [
    "# Summary statistics of numeric (int and float) data\n",
    "df.describe()"
   ]
  },
  {
   "cell_type": "code",
   "execution_count": 10,
   "id": "30ad93ac",
   "metadata": {},
   "outputs": [
    {
     "name": "stdout",
     "output_type": "stream",
     "text": [
      "OFF-PA-10001970    19\n",
      "TEC-AC-10003832    18\n",
      "FUR-FU-10004270    16\n",
      "FUR-CH-10001146    15\n",
      "TEC-AC-10003628    15\n",
      "                   ..\n",
      "TEC-PH-10003535     1\n",
      "TEC-MA-10002937     1\n",
      "OFF-AR-10004974     1\n",
      "TEC-AC-10004814     1\n",
      "OFF-ST-10001627     1\n",
      "Name: Product ID, Length: 1862, dtype: int64\n"
     ]
    }
   ],
   "source": [
    "product_id_counts = df['Product ID'].value_counts()\n",
    "\n",
    "# Display the counts\n",
    "print(product_id_counts)"
   ]
  },
  {
   "cell_type": "code",
   "execution_count": 11,
   "id": "52b15be6",
   "metadata": {},
   "outputs": [],
   "source": [
    "# Summary statistics  of category data\n",
    "\n",
    "# df.describe(include=\"Product ID\")"
   ]
  },
  {
   "cell_type": "code",
   "execution_count": 12,
   "id": "d860f46e",
   "metadata": {},
   "outputs": [
    {
     "data": {
      "text/plain": [
       "Unnamed: 0       0.0\n",
       "Row ID           0.0\n",
       "Order ID         0.0\n",
       "Order Date       0.0\n",
       "Ship Date        0.0\n",
       "Ship Mode        0.0\n",
       "Customer ID      0.0\n",
       "Customer Name    0.0\n",
       "Segment          0.0\n",
       "Country          0.0\n",
       "City             0.0\n",
       "State            0.0\n",
       "Postal Code      0.0\n",
       "Region           0.0\n",
       "Product ID       0.0\n",
       "Category         0.0\n",
       "Sub-Category     0.0\n",
       "Product Name     0.0\n",
       "Sales            0.0\n",
       "Quantity         0.0\n",
       "Discount         0.0\n",
       "Profit           0.0\n",
       "dtype: float64"
      ]
     },
     "execution_count": 12,
     "metadata": {},
     "output_type": "execute_result"
    }
   ],
   "source": [
    "# Identify duplicate data\n",
    "# data[data.duplicated()==True]\n",
    "df[df.duplicated()].sum()"
   ]
  },
  {
   "cell_type": "code",
   "execution_count": 13,
   "id": "6f721929",
   "metadata": {},
   "outputs": [
    {
     "data": {
      "text/plain": [
       "West       3203\n",
       "East       2848\n",
       "Central    2323\n",
       "South      1620\n",
       "Name: Region, dtype: int64"
      ]
     },
     "execution_count": 13,
     "metadata": {},
     "output_type": "execute_result"
    }
   ],
   "source": [
    "# summary of unique values and their counts (frequency)\n",
    "df['Region'].value_counts()"
   ]
  },
  {
   "cell_type": "code",
   "execution_count": 14,
   "id": "a1c53d35",
   "metadata": {},
   "outputs": [
    {
     "data": {
      "text/plain": [
       "West       0.320492\n",
       "East       0.284971\n",
       "Central    0.232439\n",
       "South      0.162097\n",
       "Name: Region, dtype: float64"
      ]
     },
     "execution_count": 14,
     "metadata": {},
     "output_type": "execute_result"
    }
   ],
   "source": [
    "# summary of unique values and their counts (Relative Frequency)\n",
    "df['Region'].value_counts(normalize=True)"
   ]
  },
  {
   "cell_type": "code",
   "execution_count": 15,
   "id": "267db922",
   "metadata": {},
   "outputs": [
    {
     "data": {
      "text/plain": [
       "Region\n",
       "Central    501239.8908\n",
       "East       678781.2400\n",
       "South      391721.9050\n",
       "West       725457.8245\n",
       "Name: Sales, dtype: float64"
      ]
     },
     "execution_count": 15,
     "metadata": {},
     "output_type": "execute_result"
    }
   ],
   "source": [
    "# Groupby and aggregation:\n",
    "# df.groupby('Region')['store'].count()\n",
    "df.groupby('Region')['Sales'].sum()"
   ]
  },
  {
   "cell_type": "code",
   "execution_count": 16,
   "id": "7ef768fe",
   "metadata": {},
   "outputs": [
    {
     "data": {
      "text/plain": [
       "City\n",
       "Aberdeen         25.500\n",
       "Abilene           1.392\n",
       "Akron          2729.986\n",
       "Albuquerque    2220.160\n",
       "Alexandria     5519.570\n",
       "                 ...   \n",
       "Woonsocket      195.550\n",
       "Yonkers        7657.666\n",
       "York            817.978\n",
       "Yucaipa          50.800\n",
       "Yuma            840.865\n",
       "Name: Sales, Length: 531, dtype: float64"
      ]
     },
     "execution_count": 16,
     "metadata": {},
     "output_type": "execute_result"
    }
   ],
   "source": [
    "df.groupby('City')['Sales'].sum()"
   ]
  },
  {
   "cell_type": "code",
   "execution_count": 17,
   "id": "8b3312a4",
   "metadata": {},
   "outputs": [
    {
     "data": {
      "text/html": [
       "<div>\n",
       "<style scoped>\n",
       "    .dataframe tbody tr th:only-of-type {\n",
       "        vertical-align: middle;\n",
       "    }\n",
       "\n",
       "    .dataframe tbody tr th {\n",
       "        vertical-align: top;\n",
       "    }\n",
       "\n",
       "    .dataframe thead th {\n",
       "        text-align: right;\n",
       "    }\n",
       "</style>\n",
       "<table border=\"1\" class=\"dataframe\">\n",
       "  <thead>\n",
       "    <tr style=\"text-align: right;\">\n",
       "      <th>Sub-Category</th>\n",
       "      <th>Accessories</th>\n",
       "      <th>Appliances</th>\n",
       "      <th>Art</th>\n",
       "      <th>Binders</th>\n",
       "      <th>Bookcases</th>\n",
       "      <th>Chairs</th>\n",
       "      <th>Copiers</th>\n",
       "      <th>Envelopes</th>\n",
       "      <th>Fasteners</th>\n",
       "      <th>Furnishings</th>\n",
       "      <th>Labels</th>\n",
       "      <th>Machines</th>\n",
       "      <th>Paper</th>\n",
       "      <th>Phones</th>\n",
       "      <th>Storage</th>\n",
       "      <th>Supplies</th>\n",
       "      <th>Tables</th>\n",
       "    </tr>\n",
       "    <tr>\n",
       "      <th>City</th>\n",
       "      <th></th>\n",
       "      <th></th>\n",
       "      <th></th>\n",
       "      <th></th>\n",
       "      <th></th>\n",
       "      <th></th>\n",
       "      <th></th>\n",
       "      <th></th>\n",
       "      <th></th>\n",
       "      <th></th>\n",
       "      <th></th>\n",
       "      <th></th>\n",
       "      <th></th>\n",
       "      <th></th>\n",
       "      <th></th>\n",
       "      <th></th>\n",
       "      <th></th>\n",
       "    </tr>\n",
       "  </thead>\n",
       "  <tbody>\n",
       "    <tr>\n",
       "      <th>Aberdeen</th>\n",
       "      <td>NaN</td>\n",
       "      <td>NaN</td>\n",
       "      <td>NaN</td>\n",
       "      <td>NaN</td>\n",
       "      <td>NaN</td>\n",
       "      <td>NaN</td>\n",
       "      <td>NaN</td>\n",
       "      <td>NaN</td>\n",
       "      <td>NaN</td>\n",
       "      <td>NaN</td>\n",
       "      <td>NaN</td>\n",
       "      <td>NaN</td>\n",
       "      <td>NaN</td>\n",
       "      <td>NaN</td>\n",
       "      <td>NaN</td>\n",
       "      <td>CA-2014-167976</td>\n",
       "      <td>NaN</td>\n",
       "    </tr>\n",
       "    <tr>\n",
       "      <th>Abilene</th>\n",
       "      <td>NaN</td>\n",
       "      <td>CA-2014-165099</td>\n",
       "      <td>NaN</td>\n",
       "      <td>NaN</td>\n",
       "      <td>NaN</td>\n",
       "      <td>NaN</td>\n",
       "      <td>NaN</td>\n",
       "      <td>NaN</td>\n",
       "      <td>NaN</td>\n",
       "      <td>NaN</td>\n",
       "      <td>NaN</td>\n",
       "      <td>NaN</td>\n",
       "      <td>NaN</td>\n",
       "      <td>NaN</td>\n",
       "      <td>NaN</td>\n",
       "      <td>NaN</td>\n",
       "      <td>NaN</td>\n",
       "    </tr>\n",
       "    <tr>\n",
       "      <th>Akron</th>\n",
       "      <td>US-2012-147662CA-2013-136770</td>\n",
       "      <td>NaN</td>\n",
       "      <td>CA-2014-109757US-2012-147662</td>\n",
       "      <td>CA-2014-109757CA-2014-109757US-2012-147662US-2...</td>\n",
       "      <td>NaN</td>\n",
       "      <td>NaN</td>\n",
       "      <td>NaN</td>\n",
       "      <td>NaN</td>\n",
       "      <td>CA-2013-102596</td>\n",
       "      <td>CA-2011-164224</td>\n",
       "      <td>NaN</td>\n",
       "      <td>NaN</td>\n",
       "      <td>CA-2014-105074CA-2011-164224CA-2014-109757CA-2...</td>\n",
       "      <td>US-2012-147662CA-2013-136770CA-2013-136770</td>\n",
       "      <td>CA-2014-147277CA-2014-166576</td>\n",
       "      <td>NaN</td>\n",
       "      <td>CA-2014-147277</td>\n",
       "    </tr>\n",
       "    <tr>\n",
       "      <th>Albuquerque</th>\n",
       "      <td>CA-2014-168655CA-2014-106859</td>\n",
       "      <td>NaN</td>\n",
       "      <td>US-2011-134054</td>\n",
       "      <td>CA-2014-168655</td>\n",
       "      <td>NaN</td>\n",
       "      <td>NaN</td>\n",
       "      <td>NaN</td>\n",
       "      <td>NaN</td>\n",
       "      <td>NaN</td>\n",
       "      <td>NaN</td>\n",
       "      <td>NaN</td>\n",
       "      <td>NaN</td>\n",
       "      <td>CA-2014-106859CA-2014-106859US-2014-103226CA-2...</td>\n",
       "      <td>CA-2014-106859CA-2011-152345CA-2011-100881</td>\n",
       "      <td>CA-2014-106859CA-2011-152345CA-2014-122798</td>\n",
       "      <td>NaN</td>\n",
       "      <td>NaN</td>\n",
       "    </tr>\n",
       "    <tr>\n",
       "      <th>Alexandria</th>\n",
       "      <td>NaN</td>\n",
       "      <td>NaN</td>\n",
       "      <td>CA-2011-102988CA-2011-102988</td>\n",
       "      <td>NaN</td>\n",
       "      <td>NaN</td>\n",
       "      <td>NaN</td>\n",
       "      <td>NaN</td>\n",
       "      <td>NaN</td>\n",
       "      <td>CA-2014-110926</td>\n",
       "      <td>US-2011-155502US-2011-155502CA-2012-104241</td>\n",
       "      <td>NaN</td>\n",
       "      <td>NaN</td>\n",
       "      <td>US-2011-155502US-2011-155502CA-2011-102988</td>\n",
       "      <td>US-2011-155502US-2011-155502CA-2011-102988</td>\n",
       "      <td>CA-2011-138296US-2011-155502CA-2013-164735</td>\n",
       "      <td>CA-2011-102988</td>\n",
       "      <td>NaN</td>\n",
       "    </tr>\n",
       "    <tr>\n",
       "      <th>...</th>\n",
       "      <td>...</td>\n",
       "      <td>...</td>\n",
       "      <td>...</td>\n",
       "      <td>...</td>\n",
       "      <td>...</td>\n",
       "      <td>...</td>\n",
       "      <td>...</td>\n",
       "      <td>...</td>\n",
       "      <td>...</td>\n",
       "      <td>...</td>\n",
       "      <td>...</td>\n",
       "      <td>...</td>\n",
       "      <td>...</td>\n",
       "      <td>...</td>\n",
       "      <td>...</td>\n",
       "      <td>...</td>\n",
       "      <td>...</td>\n",
       "    </tr>\n",
       "    <tr>\n",
       "      <th>Woonsocket</th>\n",
       "      <td>NaN</td>\n",
       "      <td>NaN</td>\n",
       "      <td>NaN</td>\n",
       "      <td>CA-2014-108749</td>\n",
       "      <td>NaN</td>\n",
       "      <td>NaN</td>\n",
       "      <td>NaN</td>\n",
       "      <td>NaN</td>\n",
       "      <td>NaN</td>\n",
       "      <td>CA-2011-122588</td>\n",
       "      <td>NaN</td>\n",
       "      <td>NaN</td>\n",
       "      <td>CA-2014-108749</td>\n",
       "      <td>NaN</td>\n",
       "      <td>CA-2012-119102</td>\n",
       "      <td>NaN</td>\n",
       "      <td>NaN</td>\n",
       "    </tr>\n",
       "    <tr>\n",
       "      <th>Yonkers</th>\n",
       "      <td>CA-2014-160416CA-2011-169061</td>\n",
       "      <td>NaN</td>\n",
       "      <td>CA-2011-169061</td>\n",
       "      <td>CA-2011-135755CA-2011-135755CA-2011-169061</td>\n",
       "      <td>NaN</td>\n",
       "      <td>NaN</td>\n",
       "      <td>NaN</td>\n",
       "      <td>NaN</td>\n",
       "      <td>NaN</td>\n",
       "      <td>CA-2014-108791</td>\n",
       "      <td>NaN</td>\n",
       "      <td>US-2013-143819US-2014-114657</td>\n",
       "      <td>US-2013-143819CA-2011-169061</td>\n",
       "      <td>CA-2014-108791</td>\n",
       "      <td>US-2013-143819</td>\n",
       "      <td>CA-2011-169061</td>\n",
       "      <td>US-2013-143819</td>\n",
       "    </tr>\n",
       "    <tr>\n",
       "      <th>York</th>\n",
       "      <td>NaN</td>\n",
       "      <td>NaN</td>\n",
       "      <td>NaN</td>\n",
       "      <td>US-2013-152051CA-2014-169404</td>\n",
       "      <td>NaN</td>\n",
       "      <td>US-2013-152051</td>\n",
       "      <td>NaN</td>\n",
       "      <td>NaN</td>\n",
       "      <td>NaN</td>\n",
       "      <td>NaN</td>\n",
       "      <td>NaN</td>\n",
       "      <td>NaN</td>\n",
       "      <td>CA-2014-169404</td>\n",
       "      <td>NaN</td>\n",
       "      <td>US-2013-152051</td>\n",
       "      <td>NaN</td>\n",
       "      <td>NaN</td>\n",
       "    </tr>\n",
       "    <tr>\n",
       "      <th>Yucaipa</th>\n",
       "      <td>NaN</td>\n",
       "      <td>NaN</td>\n",
       "      <td>CA-2012-112011</td>\n",
       "      <td>NaN</td>\n",
       "      <td>NaN</td>\n",
       "      <td>NaN</td>\n",
       "      <td>NaN</td>\n",
       "      <td>NaN</td>\n",
       "      <td>NaN</td>\n",
       "      <td>NaN</td>\n",
       "      <td>NaN</td>\n",
       "      <td>NaN</td>\n",
       "      <td>NaN</td>\n",
       "      <td>NaN</td>\n",
       "      <td>NaN</td>\n",
       "      <td>NaN</td>\n",
       "      <td>NaN</td>\n",
       "    </tr>\n",
       "    <tr>\n",
       "      <th>Yuma</th>\n",
       "      <td>CA-2013-108224</td>\n",
       "      <td>NaN</td>\n",
       "      <td>CA-2013-106621</td>\n",
       "      <td>CA-2013-134222</td>\n",
       "      <td>NaN</td>\n",
       "      <td>NaN</td>\n",
       "      <td>NaN</td>\n",
       "      <td>NaN</td>\n",
       "      <td>NaN</td>\n",
       "      <td>NaN</td>\n",
       "      <td>NaN</td>\n",
       "      <td>CA-2014-159282</td>\n",
       "      <td>NaN</td>\n",
       "      <td>NaN</td>\n",
       "      <td>NaN</td>\n",
       "      <td>NaN</td>\n",
       "      <td>NaN</td>\n",
       "    </tr>\n",
       "  </tbody>\n",
       "</table>\n",
       "<p>531 rows × 17 columns</p>\n",
       "</div>"
      ],
      "text/plain": [
       "Sub-Category                   Accessories      Appliances  \\\n",
       "City                                                         \n",
       "Aberdeen                               NaN             NaN   \n",
       "Abilene                                NaN  CA-2014-165099   \n",
       "Akron         US-2012-147662CA-2013-136770             NaN   \n",
       "Albuquerque   CA-2014-168655CA-2014-106859             NaN   \n",
       "Alexandria                             NaN             NaN   \n",
       "...                                    ...             ...   \n",
       "Woonsocket                             NaN             NaN   \n",
       "Yonkers       CA-2014-160416CA-2011-169061             NaN   \n",
       "York                                   NaN             NaN   \n",
       "Yucaipa                                NaN             NaN   \n",
       "Yuma                        CA-2013-108224             NaN   \n",
       "\n",
       "Sub-Category                           Art  \\\n",
       "City                                         \n",
       "Aberdeen                               NaN   \n",
       "Abilene                                NaN   \n",
       "Akron         CA-2014-109757US-2012-147662   \n",
       "Albuquerque                 US-2011-134054   \n",
       "Alexandria    CA-2011-102988CA-2011-102988   \n",
       "...                                    ...   \n",
       "Woonsocket                             NaN   \n",
       "Yonkers                     CA-2011-169061   \n",
       "York                                   NaN   \n",
       "Yucaipa                     CA-2012-112011   \n",
       "Yuma                        CA-2013-106621   \n",
       "\n",
       "Sub-Category                                            Binders Bookcases  \\\n",
       "City                                                                        \n",
       "Aberdeen                                                    NaN       NaN   \n",
       "Abilene                                                     NaN       NaN   \n",
       "Akron         CA-2014-109757CA-2014-109757US-2012-147662US-2...       NaN   \n",
       "Albuquerque                                      CA-2014-168655       NaN   \n",
       "Alexandria                                                  NaN       NaN   \n",
       "...                                                         ...       ...   \n",
       "Woonsocket                                       CA-2014-108749       NaN   \n",
       "Yonkers              CA-2011-135755CA-2011-135755CA-2011-169061       NaN   \n",
       "York                               US-2013-152051CA-2014-169404       NaN   \n",
       "Yucaipa                                                     NaN       NaN   \n",
       "Yuma                                             CA-2013-134222       NaN   \n",
       "\n",
       "Sub-Category          Chairs Copiers Envelopes       Fasteners  \\\n",
       "City                                                             \n",
       "Aberdeen                 NaN     NaN       NaN             NaN   \n",
       "Abilene                  NaN     NaN       NaN             NaN   \n",
       "Akron                    NaN     NaN       NaN  CA-2013-102596   \n",
       "Albuquerque              NaN     NaN       NaN             NaN   \n",
       "Alexandria               NaN     NaN       NaN  CA-2014-110926   \n",
       "...                      ...     ...       ...             ...   \n",
       "Woonsocket               NaN     NaN       NaN             NaN   \n",
       "Yonkers                  NaN     NaN       NaN             NaN   \n",
       "York          US-2013-152051     NaN       NaN             NaN   \n",
       "Yucaipa                  NaN     NaN       NaN             NaN   \n",
       "Yuma                     NaN     NaN       NaN             NaN   \n",
       "\n",
       "Sub-Category                                 Furnishings Labels  \\\n",
       "City                                                              \n",
       "Aberdeen                                             NaN    NaN   \n",
       "Abilene                                              NaN    NaN   \n",
       "Akron                                     CA-2011-164224    NaN   \n",
       "Albuquerque                                          NaN    NaN   \n",
       "Alexandria    US-2011-155502US-2011-155502CA-2012-104241    NaN   \n",
       "...                                                  ...    ...   \n",
       "Woonsocket                                CA-2011-122588    NaN   \n",
       "Yonkers                                   CA-2014-108791    NaN   \n",
       "York                                                 NaN    NaN   \n",
       "Yucaipa                                              NaN    NaN   \n",
       "Yuma                                                 NaN    NaN   \n",
       "\n",
       "Sub-Category                      Machines  \\\n",
       "City                                         \n",
       "Aberdeen                               NaN   \n",
       "Abilene                                NaN   \n",
       "Akron                                  NaN   \n",
       "Albuquerque                            NaN   \n",
       "Alexandria                             NaN   \n",
       "...                                    ...   \n",
       "Woonsocket                             NaN   \n",
       "Yonkers       US-2013-143819US-2014-114657   \n",
       "York                                   NaN   \n",
       "Yucaipa                                NaN   \n",
       "Yuma                        CA-2014-159282   \n",
       "\n",
       "Sub-Category                                              Paper  \\\n",
       "City                                                              \n",
       "Aberdeen                                                    NaN   \n",
       "Abilene                                                     NaN   \n",
       "Akron         CA-2014-105074CA-2011-164224CA-2014-109757CA-2...   \n",
       "Albuquerque   CA-2014-106859CA-2014-106859US-2014-103226CA-2...   \n",
       "Alexandria           US-2011-155502US-2011-155502CA-2011-102988   \n",
       "...                                                         ...   \n",
       "Woonsocket                                       CA-2014-108749   \n",
       "Yonkers                            US-2013-143819CA-2011-169061   \n",
       "York                                             CA-2014-169404   \n",
       "Yucaipa                                                     NaN   \n",
       "Yuma                                                        NaN   \n",
       "\n",
       "Sub-Category                                      Phones  \\\n",
       "City                                                       \n",
       "Aberdeen                                             NaN   \n",
       "Abilene                                              NaN   \n",
       "Akron         US-2012-147662CA-2013-136770CA-2013-136770   \n",
       "Albuquerque   CA-2014-106859CA-2011-152345CA-2011-100881   \n",
       "Alexandria    US-2011-155502US-2011-155502CA-2011-102988   \n",
       "...                                                  ...   \n",
       "Woonsocket                                           NaN   \n",
       "Yonkers                                   CA-2014-108791   \n",
       "York                                                 NaN   \n",
       "Yucaipa                                              NaN   \n",
       "Yuma                                                 NaN   \n",
       "\n",
       "Sub-Category                                     Storage        Supplies  \\\n",
       "City                                                                       \n",
       "Aberdeen                                             NaN  CA-2014-167976   \n",
       "Abilene                                              NaN             NaN   \n",
       "Akron                       CA-2014-147277CA-2014-166576             NaN   \n",
       "Albuquerque   CA-2014-106859CA-2011-152345CA-2014-122798             NaN   \n",
       "Alexandria    CA-2011-138296US-2011-155502CA-2013-164735  CA-2011-102988   \n",
       "...                                                  ...             ...   \n",
       "Woonsocket                                CA-2012-119102             NaN   \n",
       "Yonkers                                   US-2013-143819  CA-2011-169061   \n",
       "York                                      US-2013-152051             NaN   \n",
       "Yucaipa                                              NaN             NaN   \n",
       "Yuma                                                 NaN             NaN   \n",
       "\n",
       "Sub-Category          Tables  \n",
       "City                          \n",
       "Aberdeen                 NaN  \n",
       "Abilene                  NaN  \n",
       "Akron         CA-2014-147277  \n",
       "Albuquerque              NaN  \n",
       "Alexandria               NaN  \n",
       "...                      ...  \n",
       "Woonsocket               NaN  \n",
       "Yonkers       US-2013-143819  \n",
       "York                     NaN  \n",
       "Yucaipa                  NaN  \n",
       "Yuma                     NaN  \n",
       "\n",
       "[531 rows x 17 columns]"
      ]
     },
     "execution_count": 17,
     "metadata": {},
     "output_type": "execute_result"
    }
   ],
   "source": [
    "# Pivot table\n",
    "df.pivot_table(values='Order ID', index='City', columns='Sub-Category', aggfunc='sum')"
   ]
  },
  {
   "cell_type": "markdown",
   "id": "4980dfd3",
   "metadata": {},
   "source": [
    "# Data Visualization"
   ]
  },
  {
   "cell_type": "markdown",
   "id": "45233a66",
   "metadata": {},
   "source": [
    "# Univariate Analysis : Explore individual variables:"
   ]
  },
  {
   "cell_type": "code",
   "execution_count": 18,
   "id": "daff4062",
   "metadata": {},
   "outputs": [
    {
     "data": {
      "image/png": "[encoded data removed]",
      "text/plain": [
       "<Figure size 640x480 with 1 Axes>"
      ]
     },
     "metadata": {},
     "output_type": "display_data"
    }
   ],
   "source": [
    "# Histogram for a numeric variable\n",
    "plt.hist(df['Sales'], bins=20, color='red')\n",
    "plt.title('Histogram of Numeric Variable')\n",
    "plt.show()"
   ]
  },
  {
   "cell_type": "code",
   "execution_count": 19,
   "id": "49945d64",
   "metadata": {},
   "outputs": [
    {
     "data": {
      "image/png": "[encoded data removed]",
      "text/plain": [
       "<Figure size 640x480 with 1 Axes>"
      ]
     },
     "metadata": {},
     "output_type": "display_data"
    }
   ],
   "source": [
    "# Histogram for a numeric variable\n",
    "plt.hist(df['Quantity'], bins=10, color='red')\n",
    "plt.title('Histogram of Numeric Variable')\n",
    "plt.show()"
   ]
  },
  {
   "cell_type": "code",
   "execution_count": 20,
   "id": "856b6048",
   "metadata": {},
   "outputs": [
    {
     "data": {
      "image/png": "[encoded data removed]",
      "text/plain": [
       "<Figure size 600x600 with 9 Axes>"
      ]
     },
     "metadata": {},
     "output_type": "display_data"
    }
   ],
   "source": [
    "# Histogram for all numeric variable\n",
    "df.hist(figsize=(6,6), bins=20, color='red')\n",
    "plt.show()"
   ]
  },
  {
   "cell_type": "code",
   "execution_count": 21,
   "id": "276df1ee",
   "metadata": {},
   "outputs": [
    {
     "data": {
      "image/png": "[encoded data removed]",
      "text/plain": [
       "<Figure size 640x480 with 1 Axes>"
      ]
     },
     "metadata": {},
     "output_type": "display_data"
    }
   ],
   "source": [
    "# Countplot for a categorical variable\n",
    "sns.countplot(x='Region', data=df)\n",
    "plt.title('Countplot of Categorical Variable')\n",
    "plt.show()"
   ]
  },
  {
   "cell_type": "code",
   "execution_count": 22,
   "id": "935b92a8",
   "metadata": {},
   "outputs": [
    {
     "data": {
      "text/plain": [
       "<Axes: xlabel='Category'>"
      ]
     },
     "execution_count": 22,
     "metadata": {},
     "output_type": "execute_result"
    },
    {
     "data": {
      "image/png": "[encoded data removed]",
      "text/plain": [
       "<Figure size 640x480 with 1 Axes>"
      ]
     },
     "metadata": {},
     "output_type": "display_data"
    }
   ],
   "source": [
    "df.groupby('Category')['Sales'].count().plot(kind='bar')"
   ]
  },
  {
   "cell_type": "code",
   "execution_count": 23,
   "id": "644d17a9",
   "metadata": {},
   "outputs": [
    {
     "data": {
      "text/plain": [
       "<Axes: xlabel='Sales'>"
      ]
     },
     "execution_count": 23,
     "metadata": {},
     "output_type": "execute_result"
    },
    {
     "data": {
      "image/png": "[encoded data removed]",
      "text/plain": [
       "<Figure size 640x480 with 1 Axes>"
      ]
     },
     "metadata": {},
     "output_type": "display_data"
    }
   ],
   "source": [
    "sns.boxplot(data=df, x='Sales',color=\"red\")"
   ]
  },
  {
   "cell_type": "code",
   "execution_count": 24,
   "id": "1736afab",
   "metadata": {},
   "outputs": [
    {
     "data": {
      "text/plain": [
       "<Axes: xlabel='Sales'>"
      ]
     },
     "execution_count": 24,
     "metadata": {},
     "output_type": "execute_result"
    },
    {
     "data": {
      "image/png": "[encoded data removed]",
      "text/plain": [
       "<Figure size 640x480 with 1 Axes>"
      ]
     },
     "metadata": {},
     "output_type": "display_data"
    }
   ],
   "source": [
    "sns.boxplot(data=df, x='Sales',color=\"red\")"
   ]
  },
  {
   "cell_type": "markdown",
   "id": "288f871f",
   "metadata": {},
   "source": [
    "# Bivariate Analysis : Explore relationships between two variables:"
   ]
  },
  {
   "cell_type": "code",
   "execution_count": 25,
   "id": "f56421e9",
   "metadata": {},
   "outputs": [
    {
     "data": {
      "image/png": "[encoded data removed]",
      "text/plain": [
       "<Figure size 640x480 with 1 Axes>"
      ]
     },
     "metadata": {},
     "output_type": "display_data"
    }
   ],
   "source": [
    "# Scatter plot for two numeric variables\n",
    "plt.scatter(df['Sales'], df['Profit'])\n",
    "plt.title('Scatter Plot of total_bill vs tip')\n",
    "plt.xlabel('sales')\n",
    "plt.ylabel('Profit')\n",
    "plt.show()"
   ]
  },
  {
   "cell_type": "code",
   "execution_count": 26,
   "id": "c5d68285",
   "metadata": {},
   "outputs": [
    {
     "data": {
      "image/png": "[encoded data removed]",
      "text/plain": [
       "<Figure size 640x480 with 1 Axes>"
      ]
     },
     "metadata": {},
     "output_type": "display_data"
    }
   ],
   "source": [
    "# Boxplot for a numeric variable vs. a categorical variable\n",
    "sns.boxplot(x='Category', y='Sales', data=df)\n",
    "plt.title('Boxplot of tip by sex')\n",
    "plt.show()"
   ]
  },
  {
   "cell_type": "code",
   "execution_count": 27,
   "id": "85c20aa1",
   "metadata": {},
   "outputs": [
    {
     "data": {
      "text/html": [
       "<div>\n",
       "<style scoped>\n",
       "    .dataframe tbody tr th:only-of-type {\n",
       "        vertical-align: middle;\n",
       "    }\n",
       "\n",
       "    .dataframe tbody tr th {\n",
       "        vertical-align: top;\n",
       "    }\n",
       "\n",
       "    .dataframe thead th {\n",
       "        text-align: right;\n",
       "    }\n",
       "</style>\n",
       "<table border=\"1\" class=\"dataframe\">\n",
       "  <thead>\n",
       "    <tr style=\"text-align: right;\">\n",
       "      <th>Region</th>\n",
       "      <th>Central</th>\n",
       "      <th>East</th>\n",
       "      <th>South</th>\n",
       "      <th>West</th>\n",
       "    </tr>\n",
       "    <tr>\n",
       "      <th>Category</th>\n",
       "      <th></th>\n",
       "      <th></th>\n",
       "      <th></th>\n",
       "      <th></th>\n",
       "    </tr>\n",
       "  </thead>\n",
       "  <tbody>\n",
       "    <tr>\n",
       "      <th>Furniture</th>\n",
       "      <td>481</td>\n",
       "      <td>601</td>\n",
       "      <td>332</td>\n",
       "      <td>707</td>\n",
       "    </tr>\n",
       "    <tr>\n",
       "      <th>Office Supplies</th>\n",
       "      <td>1422</td>\n",
       "      <td>1712</td>\n",
       "      <td>995</td>\n",
       "      <td>1897</td>\n",
       "    </tr>\n",
       "    <tr>\n",
       "      <th>Technology</th>\n",
       "      <td>420</td>\n",
       "      <td>535</td>\n",
       "      <td>293</td>\n",
       "      <td>599</td>\n",
       "    </tr>\n",
       "  </tbody>\n",
       "</table>\n",
       "</div>"
      ],
      "text/plain": [
       "Region           Central  East  South  West\n",
       "Category                                   \n",
       "Furniture            481   601    332   707\n",
       "Office Supplies     1422  1712    995  1897\n",
       "Technology           420   535    293   599"
      ]
     },
     "execution_count": 27,
     "metadata": {},
     "output_type": "execute_result"
    }
   ],
   "source": [
    "# Stacked Histogram\n",
    "category=pd.crosstab(df['Category'],df['Region'])\n",
    "category"
   ]
  },
  {
   "cell_type": "code",
   "execution_count": 28,
   "id": "2228f682",
   "metadata": {},
   "outputs": [
    {
     "data": {
      "image/png": "[encoded data removed]",
      "text/plain": [
       "<Figure size 640x480 with 1 Axes>"
      ]
     },
     "metadata": {},
     "output_type": "display_data"
    }
   ],
   "source": [
    "# Create a stacked histogram\n",
    "sns.histplot(data=df, x=\"Sales\", hue=\"Category\", multiple=\"stack\", bins=30)\n",
    "\n",
    "# Set plot labels and title\n",
    "plt.xlabel(\"Total Bill ($)\")\n",
    "plt.ylabel(\"Frequency\")\n",
    "plt.title(\"Stacked Histogram of Total Bill by Gender\")\n",
    "\n",
    "# Show the plot\n",
    "plt.show()"
   ]
  },
  {
   "cell_type": "markdown",
   "id": "2fe24b15",
   "metadata": {},
   "source": [
    "# Data Cleaning"
   ]
  },
  {
   "cell_type": "code",
   "execution_count": 29,
   "id": "7e2414fd",
   "metadata": {},
   "outputs": [
    {
     "data": {
      "text/plain": [
       "Unnamed: 0       0\n",
       "Row ID           0\n",
       "Order ID         0\n",
       "Order Date       0\n",
       "Ship Date        0\n",
       "Ship Mode        0\n",
       "Customer ID      0\n",
       "Customer Name    0\n",
       "Segment          0\n",
       "Country          0\n",
       "City             0\n",
       "State            0\n",
       "Postal Code      0\n",
       "Region           0\n",
       "Product ID       0\n",
       "Category         0\n",
       "Sub-Category     0\n",
       "Product Name     0\n",
       "Sales            0\n",
       "Quantity         0\n",
       "Discount         0\n",
       "Profit           0\n",
       "dtype: int64"
      ]
     },
     "execution_count": 29,
     "metadata": {},
     "output_type": "execute_result"
    }
   ],
   "source": [
    "# Identify the missing values under each column\n",
    "df.isnull().sum()"
   ]
  },
  {
   "cell_type": "code",
   "execution_count": 30,
   "id": "69454b31",
   "metadata": {},
   "outputs": [
    {
     "data": {
      "text/plain": [
       "0"
      ]
     },
     "execution_count": 30,
     "metadata": {},
     "output_type": "execute_result"
    }
   ],
   "source": [
    "# Total missing values\n",
    "df.isnull().sum().sum()"
   ]
  },
  {
   "cell_type": "code",
   "execution_count": 31,
   "id": "c9d8d440",
   "metadata": {},
   "outputs": [
    {
     "data": {
      "text/plain": [
       "0.0"
      ]
     },
     "execution_count": 31,
     "metadata": {},
     "output_type": "execute_result"
    }
   ],
   "source": [
    "# % missing values\n",
    "(df.isnull().sum().sum()/len(df))*100"
   ]
  },
  {
   "cell_type": "markdown",
   "id": "68375c8f",
   "metadata": {},
   "source": [
    "## Impute the missing data"
   ]
  },
  {
   "cell_type": "code",
   "execution_count": 32,
   "id": "4096a7b0",
   "metadata": {},
   "outputs": [],
   "source": [
    "# percentage of missing data whandling based on the domain knowledge\n",
    "\n",
    "# <5% - remove the rows which are having missing values (Deletion)\n",
    "\n",
    "# 5% to 10% - impute using mean, median (numeric data) or mode(non-numeric data)\n",
    "# 5% to 10% - forward fill/backward fill (is used for time-series data)\n",
    "\n",
    "# 10% to 20% - regression, KNN imputation, interpolation\n",
    "\n",
    "# >20% - drop that column / attribute based on the relevance \n",
    "# >20% - factorization, random techniques"
   ]
  },
  {
   "cell_type": "code",
   "execution_count": 33,
   "id": "9a3d836a",
   "metadata": {},
   "outputs": [
    {
     "data": {
      "image/png": "[encoded data removed]",
      "text/plain": [
       "<Figure size 640x480 with 1 Axes>"
      ]
     },
     "metadata": {},
     "output_type": "display_data"
    }
   ],
   "source": [
    "#Visualize the relationship\n",
    "sns.scatterplot(x='Quantity', y='Sales', data=df)\n",
    "plt.title('Scatter Plot of Total Bill vs. Party Size')\n",
    "plt.show()"
   ]
  },
  {
   "cell_type": "markdown",
   "id": "05001d0f",
   "metadata": {},
   "source": [
    "# Model Planning"
   ]
  },
  {
   "cell_type": "markdown",
   "id": "39254888",
   "metadata": {},
   "source": [
    "## Linear Regression"
   ]
  },
  {
   "cell_type": "code",
   "execution_count": 34,
   "id": "9c9382fd",
   "metadata": {},
   "outputs": [],
   "source": [
    "# Assumptions of linear regression include:\n",
    "\n",
    "# Linearity: The relationship between the dependent and independent variables is linear.\n",
    "# Independence: The observations are independent of each other.\n",
    "# Homoscedasticity: The variance of the errors is constant across all levels of the independent variables.\n",
    "# Normality: The errors follow a normal distribution.\n",
    "# No multicollinearity: The independent variables are not highly correlated with each other.\n",
    "# No endogeneity: There is no relationship between the errors and the independent variables."
   ]
  },
  {
   "cell_type": "code",
   "execution_count": 35,
   "id": "f1a3757c",
   "metadata": {},
   "outputs": [],
   "source": [
    "# drop the unique data column\n",
    "#df_copy=df.drop(df['empid'])"
   ]
  },
  {
   "cell_type": "code",
   "execution_count": 36,
   "id": "0169b340",
   "metadata": {},
   "outputs": [],
   "source": [
    "# Split the data into training and testing sets\n",
    "X = df[['Quantity']]  # Independent variable\n",
    "y = df['Sales']  # Dependent variable\n",
    "X_train, X_test, y_train, y_test = train_test_split(X, y, test_size=0.2, random_state=42)"
   ]
  },
  {
   "cell_type": "code",
   "execution_count": 37,
   "id": "8d27aeed",
   "metadata": {},
   "outputs": [
    {
     "name": "stdout",
     "output_type": "stream",
     "text": [
      "LinearRegression()\n"
     ]
    }
   ],
   "source": [
    "# Perform linear regression\n",
    "taxis_model = LinearRegression()\n",
    "taxis_model.fit(X_train, y_train)\n",
    "print(taxis_model)"
   ]
  },
  {
   "cell_type": "code",
   "execution_count": 38,
   "id": "7c7a9525",
   "metadata": {},
   "outputs": [
    {
     "data": {
      "text/plain": [
       "array([237.72002251, 132.32347789, 132.32347789, ..., 185.0217502 ,\n",
       "       132.32347789, 290.41829482])"
      ]
     },
     "execution_count": 38,
     "metadata": {},
     "output_type": "execute_result"
    }
   ],
   "source": [
    "# Make predictions on the test set\n",
    "predictions = taxis_model.predict(X_test)\n",
    "predictions"
   ]
  },
  {
   "cell_type": "code",
   "execution_count": 39,
   "id": "5a859f8c",
   "metadata": {},
   "outputs": [
    {
     "data": {
      "text/plain": [
       "3125    326.087977\n",
       "1441    -95.651478\n",
       "4510    -95.023478\n",
       "39       27.036250\n",
       "4509    -13.733750\n",
       "           ...    \n",
       "9956   -244.068295\n",
       "1561    -76.845206\n",
       "1670   -168.341750\n",
       "6951    347.664522\n",
       "3910     62.031705\n",
       "Name: Sales, Length: 1999, dtype: float64"
      ]
     },
     "execution_count": 39,
     "metadata": {},
     "output_type": "execute_result"
    }
   ],
   "source": [
    "# Assess the model and assumptions\n",
    "# Check residuals (errors)\n",
    "residuals = y_test - predictions\n",
    "residuals"
   ]
  },
  {
   "cell_type": "code",
   "execution_count": 40,
   "id": "6f639044",
   "metadata": {},
   "outputs": [
    {
     "name": "stdout",
     "output_type": "stream",
     "text": [
      "Intercept: 26.926933267190975\n",
      "Coefficient for size: [52.69827231]\n"
     ]
    }
   ],
   "source": [
    "# Interpret the results and make conclusions\n",
    "print(f'Intercept: {taxis_model.intercept_}')\n",
    "print(f'Coefficient for size: {taxis_model.coef_}')"
   ]
  },
  {
   "cell_type": "code",
   "execution_count": 41,
   "id": "3c24242e",
   "metadata": {},
   "outputs": [
    {
     "name": "stdout",
     "output_type": "stream",
     "text": [
      "Mean Squared Error: 567865.6723422331\n"
     ]
    }
   ],
   "source": [
    "# Evaluate the model performance\n",
    "mse = mean_squared_error(y_test, predictions)\n",
    "print(f'Mean Squared Error: {mse}')"
   ]
  },
  {
   "cell_type": "markdown",
   "id": "f4ab496d",
   "metadata": {},
   "source": [
    "# Flask"
   ]
  },
  {
   "cell_type": "code",
   "execution_count": 43,
   "id": "a2e2419b",
   "metadata": {},
   "outputs": [
    {
     "data": {
      "text/plain": [
       "['LNmodel.sav']"
      ]
     },
     "execution_count": 43,
     "metadata": {},
     "output_type": "execute_result"
    }
   ],
   "source": [
    "# Save and Load Machine Learning Modelsimport joblib\n",
    "import joblib\n",
    "filename = \"LNmodel.sav\"\n",
    "# save the model to a file\n",
    "joblib.dump(taxis_model, filename)\n",
    "# the First parameter is the name of the model and \n",
    "# the second parameter is the name of the file with which we want to save it\n",
    "# The model named 'model' will be saved as 'LNmodel.sav' in the current directory."
   ]
  },
  {
   "cell_type": "code",
   "execution_count": 44,
   "id": "9ed2c2bb",
   "metadata": {},
   "outputs": [],
   "source": [
    "# load the saved model\n",
    "loaded_model = joblib.load(filename)"
   ]
  },
  {
   "cell_type": "code",
   "execution_count": 45,
   "id": "cf56436b",
   "metadata": {},
   "outputs": [
    {
     "data": {
      "text/plain": [
       "array([132.32347789])"
      ]
     },
     "execution_count": 45,
     "metadata": {},
     "output_type": "execute_result"
    }
   ],
   "source": [
    "# use the loaded model to make predictions\n",
    "loaded_model.predict([[2]])"
   ]
  }
 ],
 "metadata": {
  "kernelspec": {
   "display_name": "Python 3 (ipykernel)",
   "language": "python",
   "name": "python3"
  },
  "language_info": {
   "codemirror_mode": {
    "name": "ipython",
    "version": 3
   },
   "file_extension": ".py",
   "mimetype": "text/x-python",
   "name": "python",
   "nbconvert_exporter": "python",
   "pygments_lexer": "ipython3",
   "version": "3.11.4"
  }
 },
 "nbformat": 4,
 "nbformat_minor": 5
}
